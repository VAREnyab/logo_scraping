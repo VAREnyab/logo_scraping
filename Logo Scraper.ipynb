{
 "cells": [
  {
   "cell_type": "code",
   "execution_count": 1,
   "id": "20f3bb05",
   "metadata": {},
   "outputs": [],
   "source": [
    "import requests\n",
    "from bs4 import BeautifulSoup\n",
    "from IPython.display import Image"
   ]
  },
  {
   "cell_type": "code",
   "execution_count": 2,
   "id": "b857f586",
   "metadata": {},
   "outputs": [
    {
     "name": "stdout",
     "output_type": "stream",
     "text": [
      "Enter the search: Github\n"
     ]
    }
   ],
   "source": [
    "search_name = input(\"Enter the search: \")"
   ]
  },
  {
   "cell_type": "code",
   "execution_count": 3,
   "id": "83bf7af3",
   "metadata": {},
   "outputs": [],
   "source": [
    "def scrape_images(search_name):\n",
    "    # Encode the query for the URL\n",
    "    search_input = '+'.join(search_name.split())\n",
    "    \n",
    "    # Create the Google Images URL with the encoded query\n",
    "    url = f'''https://www.google.com/search?q={search_input}\n",
    "    +logo&tbm=isch&ved=2ahUKEwis_oKzxL__AhXwJ7cAHfrlD-MQ2-cCegQIABAA&oq=\n",
    "    {search_input}+logo&gs_lcp=CgNpbWcQAzoECCMQJzoHCAAQigUQQzoFCAAQgAQ6Bg\n",
    "    gAEAcQHjoICAAQBRAHEB46BggAEAUQHlC7CViyL2CeMWgAcAB4AIABnwGIAZEXkgEEMC4y\n",
    "    MZgBAKABAaoBC2d3cy13aXotaW1nwAEB&sclient=img&ei=VQGIZOz_NfDP3LUP-su_mA\n",
    "    4&bih=714&biw=1536&rlz=1C1CHBD_enIN907IN907'''\n",
    "    \n",
    "    # Send a GET request to the URL\n",
    "    response = requests.get(url)\n",
    "    \n",
    "    # Create a BeautifulSoup object to parse the HTML\n",
    "    soup = BeautifulSoup(response.text, \"html.parser\")\n",
    "    \n",
    "    # Find all image elements on the page\n",
    "    images = soup.find_all(\"img\")\n",
    "    \n",
    "    link_lst = []\n",
    "    # Iterate over the image elements and extract the image URLs\n",
    "    for img in images:\n",
    "        img_url = img.get(\"src\")\n",
    "        link_lst.append(img_url)\n",
    "    link = link_lst[1]\n",
    "\n",
    "    \n",
    "    image_url = link\n",
    "\n",
    "    # Display the image\n",
    "    return Image(url=image_url)"
   ]
  },
  {
   "cell_type": "code",
   "execution_count": 4,
   "id": "81735eb2",
   "metadata": {},
   "outputs": [
    {
     "data": {
      "text/html": [
       "<img src=\"https://encrypted-tbn0.gstatic.com/images?q=tbn:ANd9GcQleicaiE5aHlmR3dNjfPXdxYFJfO5usOhBesu2PoLtLVqyjp7vbc8c4AEgPQ&s\"/>"
      ],
      "text/plain": [
       "<IPython.core.display.Image object>"
      ]
     },
     "execution_count": 4,
     "metadata": {},
     "output_type": "execute_result"
    }
   ],
   "source": [
    "logo = scrape_images(search_name)\n",
    "logo"
   ]
  }
 ],
 "metadata": {
  "kernelspec": {
   "display_name": "Python 3 (ipykernel)",
   "language": "python",
   "name": "python3"
  },
  "language_info": {
   "codemirror_mode": {
    "name": "ipython",
    "version": 3
   },
   "file_extension": ".py",
   "mimetype": "text/x-python",
   "name": "python",
   "nbconvert_exporter": "python",
   "pygments_lexer": "ipython3",
   "version": "3.9.12"
  }
 },
 "nbformat": 4,
 "nbformat_minor": 5
}
